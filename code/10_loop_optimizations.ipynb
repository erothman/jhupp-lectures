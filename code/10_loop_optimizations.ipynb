{
 "cells": [
  {
   "cell_type": "markdown",
   "metadata": {},
   "source": [
    "## Loop Optimization\n",
    "\n",
    "* Make loops bigger to eliminate startup costs\n",
    "  * Loop fusion\n",
    "\n",
    "* Loop unrolling\n",
    "\n",
    "Get more parallelism\n",
    "Coalesce inner and outer loops\n",
    "Improve memory access patterns\n",
    "Access by row rather than column\n",
    "Tile loops\n",
    "Use reductions\n"
   ]
  }
 ],
 "metadata": {
  "kernelspec": {
   "display_name": "Python 3",
   "language": "python",
   "name": "python3"
  },
  "language_info": {
   "codemirror_mode": {
    "name": "ipython",
    "version": 3
   },
   "file_extension": ".py",
   "mimetype": "text/x-python",
   "name": "python",
   "nbconvert_exporter": "python",
   "pygments_lexer": "ipython3",
   "version": "3.6.6"
  }
 },
 "nbformat": 4,
 "nbformat_minor": 2
}
