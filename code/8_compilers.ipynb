{
 "cells": [
  {
   "cell_type": "markdown",
   "metadata": {},
   "source": [
    "## OpenMP: Compilers and Toolchain\n",
    "\n",
    "Let's recall that an OpenMP program consists of:\n",
    "1. Compiler directives that generate parallel code\n",
    "2. Library calls to configure runtime\n",
    "  a. Need to `#include <omp.h>` to get symbols/functions\n",
    "\n",
    "* For gcc/g++, OpenMP is built in\n",
    "```sh\n",
    "gcc -fopenmp program.c\n",
    "````\n",
    "* For clang, OpenMP is kind of built in.  On MacOSX, it needs help with linking.\n",
    "```\n",
    "clang -Xpreprocessor -fopenmp -lomp dynamic_schedule.c \n",
    "```\n",
    "\n",
    "### Compiler Optimization\n",
    "\n",
    "The goal is to develop __fast__ and parallel code.  OpenMP makes it parallel . Compilers make it fast.  They perform things like:\n",
    "  * loop unrolling\n",
    "  * inline functions\n",
    "  * branch prediction\n",
    "  * vectorization\n",
    "These can effect performance by __orders of magnitude__.  We will cover all of these things in the future.\n",
    "\n",
    "The degree of optimization is specified at compile time.  It is typical to debug unoptimized code and deploy optimized code.  In gcc/g++:\n",
    "  * -O0 (default) = Reduce compilation time and make debugging produce the expected results.\n",
    "  * -O1 = simple optimizations that don’t take a lot of compile time\n",
    "  * -O2 = rewrite loops, follow jump pointers, inline small functions, no time/space tradeoffs\n",
    "  * -O3 = vectorize, inline functions, branch prediction\n",
    "  * and, -g include debugging symbols\n",
    "  \n",
    "  \n",
    "__TODO RB__ code examples that demonstrate benefits of inlining and vectorization.\n"
   ]
  }
 ],
 "metadata": {
  "kernelspec": {
   "display_name": "C++11",
   "language": "C++11",
   "name": "xeus-cling-cpp11"
  },
  "language_info": {
   "codemirror_mode": "text/x-c++src",
   "file_extension": ".cpp",
   "mimetype": "text/x-c++src",
   "name": "c++",
   "version": "-std=c++11"
  }
 },
 "nbformat": 4,
 "nbformat_minor": 2
}
