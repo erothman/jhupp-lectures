{
 "cells": [
  {
   "cell_type": "markdown",
   "metadata": {},
   "source": [
    "### Loop Parallelism"
   ]
  },
  {
   "cell_type": "code",
   "execution_count": 1,
   "metadata": {},
   "outputs": [],
   "source": [
    ".L omp"
   ]
  },
  {
   "cell_type": "code",
   "execution_count": 2,
   "metadata": {},
   "outputs": [
    {
     "name": "stdout",
     "output_type": "stream",
     "text": [
      "OMP Thread# 4 loop variable 68\n",
      "OMP Thread# 4 loop variable 69\n",
      "OMP Thread# 4 loop variable 70\n",
      "OMP Thread# 4 loop variable 71\n",
      "OMP Thread# 4 loop variable 72\n",
      "OMP Thread# 4 loop variable 73\n",
      "OMP Thread# 4 loop variable 74\n",
      "OMP Thread# 4 loop variable 75\n",
      "OMP Thread# 4 loop variable 76\n",
      "OMP Thread# 4 loop variable 77\n",
      "OMP Thread# 4 loop variable 78\n",
      "OMP Thread# 4 loop variable 79\n",
      "OMP Thread# 4 loop variable 80\n",
      "OMP Thread# 4 loop variable 81\n",
      "OMP Thread# 4 loop variable 82\n",
      "OMP Thread# 4 loop variable 83\n",
      "OMP Thread# 0 loop variable 0\n",
      "OMP Thread# 0 loop variable 1\n",
      "OMP Thread# 0 loop variable 2\n",
      "OMP Thread# 0 loop variable 3\n",
      "OMP Thread# 0 loop variable 4\n",
      "OMP Thread# 0 loop variable 5\n",
      "OMP Thread# 0 loop variable 6\n",
      "OMP Thread# 0 loop variable 7\n",
      "OMP Thread# 0 loop variable 8\n",
      "OMP Thread# 0 loop variable 9\n",
      "OMP Thread# 0 loop variable 10\n",
      "OMP Thread# 0 loop variable 11\n",
      "OMP Thread# 0 loop variable 12\n",
      "OMP Thread# 0 loop variable 13\n",
      "OMP Thread# 0 loop variable 14\n",
      "OMP Thread# 0 loop variable 15\n",
      "OMP Thread# 0 loop variable 16\n",
      "OMP ThreadOMP Thread# 4 loop variable 68\n",
      "OMP Thread# 4 loop variable 69\n",
      "OMP Thread# 4 loop variable 70\n",
      "OMP Thread# 4 loop variable 71\n",
      "OMP Thread# 4 loop variable 72\n",
      "OMP Thread# 4 loop variable 73\n",
      "OMP Thread# 4 loop variable 74\n",
      "OMP Thread# 4 loop variable 75\n",
      "OMP Thread# 4 loop variable 76\n",
      "OMP Thread# 4 loop variable 77\n",
      "OMP Thread# 4 loop variable 78\n",
      "OMP Thread# 4 loop variable 79\n",
      "OMP Thread# 4 loop variable 80\n",
      "OMP Thread# 4 loop variable 81\n",
      "OMP Thread# 4 loop variable 82\n",
      "OMP Thread# 4 loop variable 83\n",
      "OMP Thread# 0 loop variable 0\n",
      "OMP Thread# 0 loop variable 1\n",
      "OMP Thread# 0 loop variable 2\n",
      "OMP Thread# 0 loop variable 3\n",
      "OMP Thread# 0 loop variable 4\n",
      "OMP Thread# 0 loop variable 5\n",
      "OMP Thread# 0 loop variable 6\n",
      "OMP Thread# 0 loop variable 7\n",
      "OMP Thread# 0 loop variable 8\n",
      "OMP Thread# 0 loop variable 9\n",
      "OMP Thread# 0 loop variable 10\n",
      "OMP Thread# 0 loop variable 11\n",
      "OMP Thread# 0 loop variable 12\n",
      "OMP Thread# 0 loop variable 13\n",
      "OMP Thread# 0 loop variable 14\n",
      "OMP Thread# 0 loop variable 15\n",
      "OMP Thread# 0 loop variable 16\n",
      "OMP ThreadOMP Thread# 4 loop variable 68\n",
      "OMP Thread# 4 loop variable 69\n",
      "OMP Thread# 4 loop variable 70\n",
      "OMP Thread# 4 loop variable 71\n",
      "OMP Thread# 4 loop variable 72\n",
      "OMP Thread# 4 loop variable 73\n",
      "OMP Thread# 4 loop variable 74\n",
      "OMP Thread# 4 loop variable 75\n",
      "OMP Thread# 4 loop variable 76\n",
      "OMP Thread# 4 loop variable 77\n",
      "OMP Thread# 4 loop variable 78\n",
      "OMP Thread# 4 loop variable 79\n",
      "OMP Thread# 4 loop variable 80\n",
      "OMP Thread# 4 loop variable 81\n",
      "OMP Thread# 4 loop variable 82\n",
      "OMP Thread# 4 loop variable 83\n",
      "OMP Thread# 0 loop variable 0\n",
      "OMP Thread# 0 loop variable 1\n",
      "OMP Thread# 0 loop variable 2\n",
      "OMP Thread# 0 loop variable 3\n",
      "OMP Thread# 0 loop variable 4\n",
      "OMP Thread# 0 loop variable 5\n",
      "OMP Thread# 0 loop variable 6\n",
      "OMP Thread# 0 loop variable 7\n",
      "OMP Thread# 0 loop variable 8\n",
      "OMP Thread# 0 loop variable 9\n",
      "OMP Thread# 0 loop variable 10\n",
      "OMP Thread# 0 loop variable 11\n",
      "OMP Thread# 0 loop variable 12\n",
      "OMP Thread# 0 loop variable 13\n",
      "OMP Thread# 0 loop variable 14\n",
      "OMP Thread# 0 loop variable 15\n",
      "OMP Thread# 0 loop variable 16\n",
      "OMP ThreadOMP Thread# 4 loop variable 68\n",
      "OMP Thread# 4 loop variable 69\n",
      "OMP Thread# 4 loop variable 70\n",
      "OMP Thread# 4 loop variable 71\n",
      "OMP Thread# 4 loop variable 72\n",
      "OMP Thread# 4 loop variable 73\n",
      "OMP Thread# 4 loop variable 74\n",
      "OMP Thread# 4 loop variable 75\n",
      "OMP Thread# 4 loop variable 76\n",
      "OMP Thread# 4 loop variable 77\n",
      "OMP Thread# 4 loop variable 78\n",
      "OMP Thread# 4 loop variable 79\n",
      "OMP Thread# 4 loop variable 80\n",
      "OMP Thread# 4 loop variable 81\n",
      "OMP Thread# 4 loop variable 82\n",
      "OMP Thread# 4 loop variable 83\n",
      "OMP Thread# 0 loop variable 0\n",
      "OMP Thread# 0 loop variable 1\n",
      "OMP Thread# 0 loop variable 2\n",
      "OMP Thread# 0 loop variable 3\n",
      "OMP Thread# 0 loop variable 4\n",
      "OMP Thread# 0 loop variable 5\n",
      "OMP Thread# 0 loop variable 6\n",
      "OMP Thread# 0 loop variable 7\n",
      "OMP Thread# 0 loop variable 8\n",
      "OMP Thread# 0 loop variable 9\n",
      "OMP Thread# 0 loop variable 10\n",
      "OMP Thread# 0 loop variable 11\n",
      "OMP Thread# 0 loop variable 12\n",
      "OMP Thread# 0 loop variable 13\n",
      "OMP Thread# 0 loop variable 14\n",
      "OMP Thread# 0 loop variable 15\n",
      "OMP Thread# 0 loop variable 16\n",
      "OMP ThreadOMP Thread# 3 loop variable 51\n",
      "OMP Thread# 3 loop variable 52\n",
      "OMP Thread# 3 loop variable 53\n",
      "OMP Thread# 3 loop variable 54\n",
      "OMP Thread# 3 loop variable 55\n",
      "OMP Thread# 3 loop variable 56\n",
      "OMP Thread# 3 loop variable 57\n",
      "OMP Thread# 3 loop variable 58\n",
      "OMP Thread# 3 loop variable 59\n",
      "OMP Thread# 3 loop variable 60\n",
      "OMP Thread# 3 loop variable 61\n",
      "OMP Thread# 3 loop variable 62\n",
      "OMP Thread# 3 loop variable 63\n",
      "OMP Thread# 3 loop variable 64\n",
      "OMP Thread# 3 loop variable 65\n",
      "OMP Thread# 3 loop variable 66\n",
      "OMP Thread# 3 loop variable 67\n"
     ]
    }
   ],
   "source": [
    "#include <iostream>\n",
    "#include <omp.h>\n",
    "\n",
    "{\n",
    "  #pragma omp parallel for \n",
    "  for ( int i=0; i<100; i++ )\n",
    "  {\n",
    "    std::cout << \"OMP Thread# \" << omp_get_thread_num() << \" loop variable \" << i << \"\\n\";\n",
    "  }\n",
    "}"
   ]
  },
  {
   "cell_type": "markdown",
   "metadata": {},
   "source": [
    "Next blocks don't work use the command.  Go to OpenMP examples.\n",
    "```sh\n",
    "clang -Xpreprocessor -fopenmp -lomp dynamic_schedule.c \n",
    "```\n"
   ]
  },
  {
   "cell_type": "markdown",
   "metadata": {},
   "source": [
    "### Static Scheduling"
   ]
  },
  {
   "cell_type": "code",
   "execution_count": null,
   "metadata": {},
   "outputs": [],
   "source": [
    "#include <iostream>\n",
    "#include <omp.h>\n",
    "\n",
    "{\n",
    "  #pragma omp parallel for schedule(static,4)\n",
    "  for ( int i=0; i<100; i++ )\n",
    "  {\n",
    "    std::cout << \"OMP Thread# \" << omp_get_thread_num() << \" loop variable \" << i << \"\\n\";\n",
    "  }\n",
    "}"
   ]
  },
  {
   "cell_type": "markdown",
   "metadata": {},
   "source": [
    "### Dynamic Scheduling"
   ]
  },
  {
   "cell_type": "code",
   "execution_count": 1,
   "metadata": {},
   "outputs": [],
   "source": [
    ".L omp"
   ]
  },
  {
   "cell_type": "code",
   "execution_count": null,
   "metadata": {},
   "outputs": [],
   "source": [
    "\n",
    "#include <iostream>\n",
    "#include <omp.h>\n",
    "\n",
    "{\n",
    "  #pragma omp parallel for schedule(dynamic,4)\n",
    "  for ( int i=0; i<100; i++ )\n",
    "  {\n",
    "    std::cout << \"OMP Thread# \" << omp_get_thread_num() << \" loop variable \" << i << \"\\n\";\n",
    "  }\n",
    "}"
   ]
  },
  {
   "cell_type": "markdown",
   "metadata": {},
   "source": [
    "### Guided Scheduling"
   ]
  },
  {
   "cell_type": "code",
   "execution_count": null,
   "metadata": {},
   "outputs": [],
   "source": [
    "#include <iostream>\n",
    "#include <omp.h>\n",
    "\n",
    "{\n",
    "  #pragma omp parallel for schedule(guided)\n",
    "  for ( int i=0; i<100; i++ )\n",
    "  {\n",
    "    std::cout << \"OMP Thread# \" << omp_get_thread_num() << \" loop variable \" << i << \"\\n\";\n",
    "  }\n",
    "}"
   ]
  },
  {
   "cell_type": "code",
   "execution_count": null,
   "metadata": {},
   "outputs": [],
   "source": []
  }
 ],
 "metadata": {
  "kernelspec": {
   "display_name": "C++11",
   "language": "C++11",
   "name": "xeus-cling-cpp11"
  },
  "language_info": {
   "codemirror_mode": "text/x-c++src",
   "file_extension": ".cpp",
   "mimetype": "text/x-c++src",
   "name": "c++",
   "version": "-std=c++11"
  }
 },
 "nbformat": 4,
 "nbformat_minor": 2
}
